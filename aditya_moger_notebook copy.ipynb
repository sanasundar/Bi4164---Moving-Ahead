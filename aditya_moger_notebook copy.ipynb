{
 "cells": [
  {
   "cell_type": "code",
   "execution_count": 1,
   "metadata": {},
   "outputs": [],
   "source": [
    "import numpy as np\n",
    "import pandas as pd\n"
   ]
  },
  {
   "cell_type": "code",
   "execution_count": 3,
   "metadata": {},
   "outputs": [
    {
     "name": "stdout",
     "output_type": "stream",
     "text": [
      "read_fasta has run!\n",
      "kmers have been made and vectors acquired!\n",
      "kmers have been made and vectors acquired!\n"
     ]
    }
   ],
   "source": [
    "from itertools import product\n",
    "from Bio import SeqIO\n",
    "import os\n",
    "import numpy as np\n",
    "import pandas as pd\n",
    "import pickle\n",
    "from collections import Counter\n",
    "from textwrap import wrap\n",
    "from sklearn.feature_extraction import DictVectorizer\n",
    "\n",
    "dir_data=r\"d:\\\\github\\\\Bi4164---Moving-Ahead\\\\data_set\"\n",
    "\n",
    "\n",
    "os.chdir(dir_data)\n",
    "fasta_sequences_neg = SeqIO.parse(open(\"negative.fa\"), 'fasta')\n",
    "fasta_sequences_pos = SeqIO.parse(open(\"positive.fa\"), 'fasta')\n",
    "\n",
    "def read_fasta(fasta_sequences_neg, fasta_sequences_pos):\n",
    "    '''Returns a list of sequences and their corresponding genomic activities i.e., promoter or not\n",
    "    \n",
    "        Parameters\n",
    "        ----------\n",
    "        fasta_sequences_neg: class 'Bio.SeqIO.FastaIO.FastaIterator'\n",
    "            The list of sequences that do not show promoter activity\n",
    "        fasta_sequences_pos: class 'Bio.SeqIO.FastaIO.FastaIterator'\n",
    "            The list of sequences that show promoter activity\n",
    "        \n",
    "        Returns\n",
    "        -------\n",
    "        list_of_sequences: list\n",
    "            The list of combined negative and positive sequences\n",
    "        list_of_ids: list\n",
    "            The list of ids, which is whether the corresponding sequence has promoter activity or not'''\n",
    "    \n",
    "    list_of_sequences = []\n",
    "    list_of_ids = []\n",
    "    for fasta in fasta_sequences_neg:\n",
    "        name, sequence = fasta.id, str(fasta.seq)\n",
    "        list_of_sequences.append(sequence)\n",
    "        list_of_ids.append('neg')\n",
    "    for fasta in fasta_sequences_pos:\n",
    "        name, sequence = fasta.id, str(fasta.seq)\n",
    "        list_of_sequences.append(sequence)\n",
    "        list_of_ids.append('pos')\n",
    "    print('read_fasta has run!')\n",
    "    return list_of_sequences, list_of_ids\n",
    "\n",
    "def make_kmers(sequence, kmer_size):\n",
    "    '''Returns the list of kmers for a particular sequence and size of kmer inputted by the user\n",
    "    \n",
    "        Parameters\n",
    "        ----------\n",
    "        sequence: string\n",
    "            The sequence for which kmers are to be generated \n",
    "        kmer_size: int\n",
    "            The size of the sliding window to generate kmers of that size\n",
    "        \n",
    "        Returns\n",
    "        -------\n",
    "        kmers: list\n",
    "            The list of kmers for the sequence'''\n",
    "\n",
    "    output= []\n",
    "    for i in range(kmer_size):\n",
    "        output+=wrap(sequence[i:], width=kmer_size)\n",
    "    output= [i for i in output if len(i)==kmer_size]\n",
    "    dict_output= Counter(output)\n",
    "    return output, dict_output\n",
    "def create_matrix_labels_given_order( order):\n",
    "    \n",
    "    nucleotides= [\"A\", \"T\", \"G\", \"C\"]\n",
    "    counter=0\n",
    "    if order==0:\n",
    "        return [\"NULL\"]\n",
    "    if order==1:\n",
    "        return nucleotides\n",
    "    else:\n",
    "        past_output= create_matrix_labels_given_order(order-1)\n",
    "        new_output= []\n",
    "        for entries in past_output:\n",
    "            for nucleotide in nucleotides:\n",
    "                new_output.append(entries + nucleotide)\n",
    "        return new_output\n",
    "    \n",
    "def get_vectors_for_all_sequences(sequences_list, kmer_size):\n",
    "    \n",
    "    v = DictVectorizer()\n",
    "    keys_null= create_matrix_labels_given_order(kmer_size)\n",
    "    values_null= np.zeros(shape= (len(keys_null)))\n",
    "    dict_null= dict(zip(keys_null, values_null))\n",
    "    D = [dict_null]\n",
    "    for i in range(0, len(sequences_list)):\n",
    "        kmers_for_sequence = dict(make_kmers(sequences[i], kmer_size)[1])\n",
    "        D.append(kmers_for_sequence)\n",
    "    print('kmers have been made and vectors acquired!')\n",
    "    X = v.fit_transform(D)\n",
    "    X= X[1:]\n",
    "    return X, v\n",
    "        \n",
    "kmer_size = 6\n",
    "sequences, ids = read_fasta(fasta_sequences_neg, fasta_sequences_pos)\n",
    "# normalised_vectors_for_all_data = get_vectors_for_all_sequences(sequences, kmer_size)\n",
    "# print(normalised_vectors_for_all_data[0])\n",
    "# print(sequences[0])\n",
    "# print(dict(make_kmers(sequences[0], kmer_size)[1]))\n",
    "X, v= get_vectors_for_all_sequences(sequences, kmer_size)\n",
    "onehot_ids= [1 if i==\"pos\" else 0 for i in ids]\n",
    "y=onehot_ids\n",
    "\n",
    "list_of_sequences = []\n",
    "dir_data=r\"d:\\\\github\\\\Bi4164---Moving-Ahead\\\\data_set\"\n",
    "\n",
    "os.chdir(dir_data)\n",
    "fasta_sequences_test = SeqIO.parse(open(\"test.fa\"), 'fasta')\n",
    "\n",
    "for fasta in fasta_sequences_test:\n",
    "    name, sequence = fasta.id, str(fasta.seq)\n",
    "    list_of_sequences.append(sequence)\n",
    "    \n",
    "X_testing, v_testing= get_vectors_for_all_sequences(list_of_sequences, kmer_size)\n",
    "\n",
    "\n"
   ]
  },
  {
   "cell_type": "code",
   "execution_count": 4,
   "metadata": {},
   "outputs": [],
   "source": [
    "from sklearn.model_selection import KFold\n",
    "from sklearn.model_selection import StratifiedKFold\n",
    "from sklearn import datasets, metrics, model_selection, svm\n",
    "import sklearn\n",
    "import matplotlib.pyplot as plt\n",
    "from sklearn.metrics import RocCurveDisplay\n",
    "from sklearn.naive_bayes import BernoulliNB\n",
    "from sklearn.metrics import precision_score"
   ]
  },
  {
   "cell_type": "code",
   "execution_count": 5,
   "metadata": {},
   "outputs": [
    {
     "name": "stdout",
     "output_type": "stream",
     "text": [
      "fold number: 0, precision test: 0.9002959912489544, precision train: 0.8998208203522252\n",
      "fold number: 1, precision test: 0.8997189286983491, precision train: 0.9003560438852282\n",
      "fold number: 2, precision test: 0.8953465920061788, precision train: 0.9001499202037625\n"
     ]
    }
   ],
   "source": [
    "kf = StratifiedKFold(n_splits=3)\n",
    "kf.get_n_splits(X, y)\n",
    "# clf, clf_label= KNeighborsClassifier(n_jobs=4, n_neighbors=3), \"knn\"\n",
    "clf = BernoulliNB()\n",
    "# clf, clf_label= LogisticRegression(), \"linear\"\n",
    "# clf, clf_label= RidgeClassifier(alpha= 1.0), \"ridge\"\n",
    "# clf, clf_label= RidgeClassifier(alpha= 0.5), \"ridge_0.5\"\n",
    "# X_test, Y_test, X_train, Y_train, Pred, Pred_train= [], [], [], [], [], []\n",
    "\n",
    "for i, (train_index, test_index) in enumerate(kf.split(X, y)):\n",
    "    \n",
    "    x_train, x_test = X[train_index.astype(int)], X[test_index.astype(int)]\n",
    "    y_train, y_test = np.array(y)[train_index.astype(int)], np.array(y)[test_index.astype(int)]\n",
    "    clf.fit(x_train, y_train)\n",
    "    \n",
    "    y_pred = clf.predict(x_test)\n",
    "    y_train_pred = clf.predict(x_train) \n",
    "    print(f\"fold number: {i}, precision test: {precision_score(y_test, y_pred)}, precision train: {precision_score(y_train, y_train_pred)}\")\n",
    "    "
   ]
  },
  {
   "cell_type": "code",
   "execution_count": 6,
   "metadata": {},
   "outputs": [],
   "source": [
    "import tensorflow as tf\n",
    "from tensorflow.keras.models import Sequential\n",
    "from tensorflow.keras.layers import Embedding, Conv1D, GlobalMaxPooling1D, Dense\n",
    "from tensorflow.keras.preprocessing.text import Tokenizer\n",
    "from tensorflow.keras.preprocessing.sequence import pad_sequences\n",
    "import numpy as np"
   ]
  },
  {
   "cell_type": "code",
   "execution_count": 7,
   "metadata": {},
   "outputs": [],
   "source": [
    "x_train, x_test = X[train_index.astype(int)], X[test_index.astype(int)]\n",
    "y_train, y_test = np.array(y)[train_index.astype(int)], np.array(y)[test_index.astype(int)]"
   ]
  },
  {
   "cell_type": "code",
   "execution_count": 8,
   "metadata": {},
   "outputs": [
    {
     "name": "stderr",
     "output_type": "stream",
     "text": [
      "C:\\Users\\adity\\AppData\\Local\\Packages\\PythonSoftwareFoundation.Python.3.11_qbz5n2kfra8p0\\LocalCache\\local-packages\\Python311\\site-packages\\keras\\src\\layers\\core\\embedding.py:90: UserWarning: Argument `input_length` is deprecated. Just remove it.\n",
      "  warnings.warn(\n"
     ]
    },
    {
     "name": "stdout",
     "output_type": "stream",
     "text": [
      "Epoch 1/3\n",
      "\u001b[1m4167/4167\u001b[0m \u001b[32m━━━━━━━━━━━━━━━━━━━━\u001b[0m\u001b[37m\u001b[0m \u001b[1m165s\u001b[0m 39ms/step - accuracy: 0.5144 - loss: 0.6915\n",
      "Epoch 2/3\n",
      "\u001b[1m4167/4167\u001b[0m \u001b[32m━━━━━━━━━━━━━━━━━━━━\u001b[0m\u001b[37m\u001b[0m \u001b[1m162s\u001b[0m 39ms/step - accuracy: 0.5286 - loss: 0.6885\n",
      "Epoch 3/3\n",
      "\u001b[1m4167/4167\u001b[0m \u001b[32m━━━━━━━━━━━━━━━━━━━━\u001b[0m\u001b[37m\u001b[0m \u001b[1m168s\u001b[0m 40ms/step - accuracy: 0.5334 - loss: 0.6874\n"
     ]
    },
    {
     "data": {
      "text/plain": [
       "<keras.src.callbacks.history.History at 0x245ff38ccd0>"
      ]
     },
     "execution_count": 8,
     "metadata": {},
     "output_type": "execute_result"
    }
   ],
   "source": [
    "# Define the model\n",
    "model = Sequential([\n",
    "    Embedding(input_dim=100, output_dim=16, input_length=4096),\n",
    "    Conv1D(32, 5, activation='relu'),\n",
    "    GlobalMaxPooling1D(),\n",
    "    Dense(10, activation='relu'),\n",
    "    Dense(1, activation='sigmoid')  # Binary classification\n",
    "])\n",
    "\n",
    "# Compile the model\n",
    "model.compile(optimizer='adam', loss='binary_crossentropy', metrics=['accuracy'])\n",
    "\n",
    "# Train the model\n",
    "model.fit(x_train, y_train, epochs=3)"
   ]
  },
  {
   "cell_type": "code",
   "execution_count": null,
   "metadata": {},
   "outputs": [
    {
     "name": "stdout",
     "output_type": "stream",
     "text": [
      "<Embedding name=embedding, built=True>\n"
     ]
    }
   ],
   "source": [
    "print(model.get_layer(index=0))"
   ]
  },
  {
   "cell_type": "code",
   "execution_count": 10,
   "metadata": {},
   "outputs": [
    {
     "name": "stdout",
     "output_type": "stream",
     "text": [
      "\u001b[1m2084/2084\u001b[0m \u001b[32m━━━━━━━━━━━━━━━━━━━━\u001b[0m\u001b[37m\u001b[0m \u001b[1m21s\u001b[0m 10ms/step\n"
     ]
    }
   ],
   "source": [
    "predictions= model.predict(x_test)"
   ]
  },
  {
   "cell_type": "code",
   "execution_count": 11,
   "metadata": {},
   "outputs": [
    {
     "name": "stdout",
     "output_type": "stream",
     "text": [
      "[0.         0.         0.         ... 0.94494945 0.98253983 1.        ] [0.00000000e+00 3.00003000e-05 9.00009000e-05 ... 9.52869529e-01\n",
      " 9.85899859e-01 1.00000000e+00] [       inf 0.98276645 0.9811974  ... 0.4684582  0.46792775 0.4678215 ]\n"
     ]
    },
    {
     "data": {
      "image/png": "[encoded data removed]",
      "text/plain": [
       "<Figure size 640x480 with 1 Axes>"
      ]
     },
     "metadata": {},
     "output_type": "display_data"
    },
    {
     "data": {
      "text/plain": [
       "<function sklearn.metrics._classification.precision_score(y_true, y_pred, *, labels=None, pos_label=1, average='binary', sample_weight=None, zero_division='warn')>"
      ]
     },
     "execution_count": 11,
     "metadata": {},
     "output_type": "execute_result"
    }
   ],
   "source": [
    "fpr, tpr, thresholds = metrics.roc_curve(y_test, predictions)\n",
    "print(fpr, tpr, thresholds)\n",
    "roc_auc = metrics.auc(fpr, tpr)\n",
    "\n",
    "RocCurveDisplay.from_predictions(y_test, predictions)\n",
    "# display.plot()\n",
    "plt.show()\n",
    "precision_score"
   ]
  },
  {
   "cell_type": "code",
   "execution_count": 13,
   "metadata": {},
   "outputs": [
    {
     "name": "stdout",
     "output_type": "stream",
     "text": [
      "\u001b[1m32/32\u001b[0m \u001b[32m━━━━━━━━━━━━━━━━━━━━\u001b[0m\u001b[37m\u001b[0m \u001b[1m0s\u001b[0m 10ms/step\n"
     ]
    }
   ],
   "source": [
    "\n",
    "X_testing\n",
    "predictions_testFA= model.predict(X_testing)"
   ]
  },
  {
   "cell_type": "code",
   "execution_count": 16,
   "metadata": {},
   "outputs": [],
   "source": [
    "dir_outputs=r\"d:\\\\github\\\\Bi4164---Moving-Ahead\\\\model_outputs\"\n",
    "# prob_testingFA= clf.predict(X_testing)\n",
    "# neg_prob= prob_testingFA[:,0]\n",
    "# pos_prob= prob_testingFA[:,1]\n",
    "os.chdir(dir_outputs)\n",
    "predictions_testFA\n",
    "np.save(\"neural_network_CNN_positive_prob.npy\", predictions_testFA)"
   ]
  },
  {
   "cell_type": "code",
   "execution_count": null,
   "metadata": {},
   "outputs": [],
   "source": []
  },
  {
   "cell_type": "code",
   "execution_count": null,
   "metadata": {},
   "outputs": [
    {
     "data": {
      "text/plain": [
       "<KerasTensor shape=(None, 4096, 16), dtype=float32, sparse=False, name=keras_tensor_1>"
      ]
     },
     "execution_count": 50,
     "metadata": {},
     "output_type": "execute_result"
    }
   ],
   "source": [
    "embeddings= model.get_layer(name=\"embedding\").output\n",
    "embeddings"
   ]
  },
  {
   "cell_type": "code",
   "execution_count": null,
   "metadata": {},
   "outputs": [
    {
     "ename": "AttributeError",
     "evalue": "'KerasTensor' object has no attribute 'numpy'",
     "output_type": "error",
     "traceback": [
      "\u001b[1;31m---------------------------------------------------------------------------\u001b[0m",
      "\u001b[1;31mAttributeError\u001b[0m                            Traceback (most recent call last)",
      "Cell \u001b[1;32mIn[48], line 1\u001b[0m\n\u001b[1;32m----> 1\u001b[0m \u001b[38;5;28mprint\u001b[39m(\u001b[43membeddings\u001b[49m\u001b[38;5;241;43m.\u001b[39;49m\u001b[43mnumpy\u001b[49m())\n",
      "\u001b[1;31mAttributeError\u001b[0m: 'KerasTensor' object has no attribute 'numpy'"
     ]
    }
   ],
   "source": [
    "print(embeddings.numpy())"
   ]
  },
  {
   "cell_type": "code",
   "execution_count": null,
   "metadata": {},
   "outputs": [
    {
     "ename": "TypeError",
     "evalue": "sparse array length is ambiguous; use getnnz() or shape[0]",
     "output_type": "error",
     "traceback": [
      "\u001b[1;31m---------------------------------------------------------------------------\u001b[0m",
      "\u001b[1;31mTypeError\u001b[0m                                 Traceback (most recent call last)",
      "Cell \u001b[1;32mIn[51], line 1\u001b[0m\n\u001b[1;32m----> 1\u001b[0m \u001b[38;5;28;43mlen\u001b[39;49m\u001b[43m(\u001b[49m\u001b[43mx_train\u001b[49m\u001b[43m)\u001b[49m\n",
      "File \u001b[1;32m~\\AppData\\Local\\Packages\\PythonSoftwareFoundation.Python.3.11_qbz5n2kfra8p0\\LocalCache\\local-packages\\Python311\\site-packages\\scipy\\sparse\\_base.py:340\u001b[0m, in \u001b[0;36m_spbase.__len__\u001b[1;34m(self)\u001b[0m\n\u001b[0;32m    339\u001b[0m \u001b[38;5;28;01mdef\u001b[39;00m \u001b[38;5;21m__len__\u001b[39m(\u001b[38;5;28mself\u001b[39m):\n\u001b[1;32m--> 340\u001b[0m     \u001b[38;5;28;01mraise\u001b[39;00m \u001b[38;5;167;01mTypeError\u001b[39;00m(\u001b[38;5;124m\"\u001b[39m\u001b[38;5;124msparse array length is ambiguous; use getnnz()\u001b[39m\u001b[38;5;124m\"\u001b[39m\n\u001b[0;32m    341\u001b[0m                     \u001b[38;5;124m\"\u001b[39m\u001b[38;5;124m or shape[0]\u001b[39m\u001b[38;5;124m\"\u001b[39m)\n",
      "\u001b[1;31mTypeError\u001b[0m: sparse array length is ambiguous; use getnnz() or shape[0]"
     ]
    }
   ],
   "source": []
  },
  {
   "cell_type": "code",
   "execution_count": null,
   "metadata": {},
   "outputs": [
    {
     "name": "stdout",
     "output_type": "stream",
     "text": [
      "\u001b[1m4167/4167\u001b[0m \u001b[32m━━━━━━━━━━━━━━━━━━━━\u001b[0m\u001b[37m\u001b[0m \u001b[1m50s\u001b[0m 12ms/step\n",
      "[0.         0.         0.         ... 0.99860501 0.999835   1.        ] [0.00000000e+00 1.49999250e-05 2.99998500e-05 ... 9.99145004e-01\n",
      " 9.99820001e-01 1.00000000e+00] [       inf 0.993309   0.9927699  ... 0.4363287  0.42475024 0.4218481 ]\n"
     ]
    },
    {
     "data": {
      "image/png": "[encoded data removed]",
      "text/plain": [
       "<Figure size 640x480 with 1 Axes>"
      ]
     },
     "metadata": {},
     "output_type": "display_data"
    },
    {
     "data": {
      "text/plain": [
       "<function sklearn.metrics._classification.precision_score(y_true, y_pred, *, labels=None, pos_label=1, average='binary', sample_weight=None, zero_division='warn')>"
      ]
     },
     "execution_count": 52,
     "metadata": {},
     "output_type": "execute_result"
    }
   ],
   "source": [
    "predictions= model.predict(x_train)\n",
    "\n",
    "fpr, tpr, thresholds = metrics.roc_curve(y_train, predictions)\n",
    "print(fpr, tpr, thresholds)\n",
    "roc_auc = metrics.auc(fpr, tpr)\n",
    "\n",
    "RocCurveDisplay.from_predictions(y_train, predictions)\n",
    "# display.plot()\n",
    "plt.show()\n",
    "precision_score"
   ]
  }
 ],
 "metadata": {
  "kernelspec": {
   "display_name": "Python 3",
   "language": "python",
   "name": "python3"
  },
  "language_info": {
   "codemirror_mode": {
    "name": "ipython",
    "version": 3
   },
   "file_extension": ".py",
   "mimetype": "text/x-python",
   "name": "python",
   "nbconvert_exporter": "python",
   "pygments_lexer": "ipython3",
   "version": "3.11.9"
  }
 },
 "nbformat": 4,
 "nbformat_minor": 2
}
